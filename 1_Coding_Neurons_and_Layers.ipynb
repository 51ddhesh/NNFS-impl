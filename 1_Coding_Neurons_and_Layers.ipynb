{
 "cells": [
  {
   "cell_type": "markdown",
   "id": "5f8fec12",
   "metadata": {},
   "source": [
    "### The First Neuron"
   ]
  },
  {
   "cell_type": "code",
   "execution_count": 1,
   "id": "52f52cdb",
   "metadata": {},
   "outputs": [
    {
     "name": "stdout",
     "output_type": "stream",
     "text": [
      "4.8\n",
      "4.8\n"
     ]
    }
   ],
   "source": [
    "inputs = [1.0, 2.0, 3.0, 2.5]\n",
    "weights = [0.2, 0.8, -0.5, 1.0]\n",
    "bias = 2.0\n",
    "\n",
    "output = (\n",
    "    inputs[0] * weights[0] +\n",
    "    inputs[1] * weights[1] +\n",
    "    inputs[2] * weights[2] +\n",
    "    inputs[3] * weights[3] + \n",
    "    bias\n",
    ")\n",
    "\n",
    "print(output)\n",
    "\n",
    "''' Looping '''\n",
    "\n",
    "output = 0\n",
    "for i in range(0, len(inputs)):\n",
    "    output += inputs[i] * weights[i]\n",
    "\n",
    "output += bias\n",
    "\n",
    "print(output)"
   ]
  },
  {
   "cell_type": "markdown",
   "id": "f065dfca",
   "metadata": {},
   "source": [
    "### Layer of Neurons"
   ]
  },
  {
   "cell_type": "code",
   "execution_count": 2,
   "id": "a4fb5e47",
   "metadata": {},
   "outputs": [
    {
     "name": "stdout",
     "output_type": "stream",
     "text": [
      "[4.8, 1.21, 2.385]\n",
      "[4.8, 1.21, 2.385]\n"
     ]
    }
   ],
   "source": [
    "inputs = [1, 2, 3, 2.5]\n",
    "\n",
    "weights = [\n",
    "    [0.2, 0.8, -0.5, 1], # weights[0]\n",
    "    [0.5, -0.91, 0.26, -0.5], # weights[1]\n",
    "    [-0.26, -0.27, 0.17, 0.87] # weights[2]\n",
    "]\n",
    "\n",
    "biases = [2, 3, 0.5]\n",
    "\n",
    "'''\n",
    "    number of neurons = len(weights) or len(biases) = number of outputs\n",
    "'''\n",
    "\n",
    "# * initialize an empty list to store the outputs\n",
    "output = [0] * len(weights)\n",
    "\n",
    "'''\n",
    "    output[0] = inputs[0] * weights[0][0] + inputs[1] * weights[0][1] + inputs[2] * weights[0][2] + inputs[3] * weights[0][3] + biases[0]\n",
    "    output[1] = inputs[0] * weights[1][0] + inputs[1] * weights[1][1] + inputs[2] * weights[1][2] + inputs[3] * weights[1][3] + biases[1]\n",
    "    output[2] = inputs[0] * weights[2][0] + inputs[1] * weights[2][1] + inputs[2] * weights[2][2] + inputs[3] * weights[2][3] + biases[2]\n",
    "'''\n",
    "output[0] = inputs[0] * weights[0][0] + inputs[1] * weights[0][1] + inputs[2] * weights[0][2] + inputs[3] * weights[0][3] + biases[0]\n",
    "output[1] = inputs[0] * weights[1][0] + inputs[1] * weights[1][1] + inputs[2] * weights[1][2] + inputs[3] * weights[1][3] + biases[1]\n",
    "output[2] = inputs[0] * weights[2][0] + inputs[1] * weights[2][1] + inputs[2] * weights[2][2] + inputs[3] * weights[2][3] + biases[2]\n",
    "\n",
    "print(output)\n",
    "\n",
    "output = [0] * len(weights)\n",
    "\n",
    "\n",
    "''' Looping '''\n",
    "\n",
    "for i in range(0, len(weights)):\n",
    "    for j in range(0, len(inputs)):\n",
    "        output[i] += inputs[j] * weights[i][j]\n",
    "\n",
    "for i in range(0, len(biases)):\n",
    "    output[i] += biases[i]\n",
    "\n",
    "print(output)"
   ]
  }
 ],
 "metadata": {
  "kernelspec": {
   "display_name": "env",
   "language": "python",
   "name": "python3"
  },
  "language_info": {
   "codemirror_mode": {
    "name": "ipython",
    "version": 3
   },
   "file_extension": ".py",
   "mimetype": "text/x-python",
   "name": "python",
   "nbconvert_exporter": "python",
   "pygments_lexer": "ipython3",
   "version": "3.13.3"
  }
 },
 "nbformat": 4,
 "nbformat_minor": 5
}
