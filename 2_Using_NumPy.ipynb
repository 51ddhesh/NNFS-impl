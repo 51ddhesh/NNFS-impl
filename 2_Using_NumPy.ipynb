{
 "cells": [
  {
   "cell_type": "code",
   "execution_count": 1,
   "id": "058110d6",
   "metadata": {},
   "outputs": [],
   "source": [
    "import numpy as np"
   ]
  },
  {
   "cell_type": "code",
   "execution_count": 2,
   "id": "99728d2b",
   "metadata": {},
   "outputs": [
    {
     "name": "stdout",
     "output_type": "stream",
     "text": [
      "4.8\n"
     ]
    }
   ],
   "source": [
    "inputs = np.array([1.0, 2.0, 3.0, 2.5])  \n",
    "weights = np.array([0.2, 0.8, -0.5, 1.0])\n",
    "bias = 2.0\n",
    "\n",
    "output = np.dot(inputs, weights) + bias\n",
    "print(output)"
   ]
  },
  {
   "cell_type": "code",
   "execution_count": 3,
   "id": "43c1a1f1",
   "metadata": {},
   "outputs": [
    {
     "name": "stdout",
     "output_type": "stream",
     "text": [
      "[np.float64(4.8), np.float64(1.21), np.float64(2.385)]\n",
      "[4.8   1.21  2.385]\n",
      "[4.8   1.21  2.385]\n"
     ]
    }
   ],
   "source": [
    "inputs = np.array([1, 2, 3, 2.5])\n",
    "\n",
    "weights = np.array([\n",
    "    [0.2, 0.8, -0.5, 1], # weights[0]\n",
    "    [0.5, -0.91, 0.26, -0.5], # weights[1]\n",
    "    [-0.26, -0.27, 0.17, 0.87] # weights[2]\n",
    "])\n",
    "\n",
    "biases = np.array([2, 3, 0.5])\n",
    "\n",
    "outputs = [0] * len(weights)\n",
    "\n",
    "for i in range(0, len(weights)):\n",
    "    outputs[i] = np.dot(weights[i], inputs) + biases[i]\n",
    "print(outputs)\n",
    "\n",
    "outputs = np.dot(weights, inputs) + biases\n",
    "print(outputs)\n",
    "\n",
    "outputs = np.dot(inputs, weights.T) + biases\n",
    "print(outputs)"
   ]
  },
  {
   "cell_type": "markdown",
   "id": "14c24e68",
   "metadata": {},
   "source": [
    "#### Multiple Inputs - Batch Data"
   ]
  },
  {
   "cell_type": "code",
   "execution_count": 4,
   "id": "5cf00b1f",
   "metadata": {},
   "outputs": [
    {
     "name": "stdout",
     "output_type": "stream",
     "text": [
      "[[ 4.8    1.21   2.385]\n",
      " [ 8.9   -1.81   0.2  ]\n",
      " [ 1.41   1.051  0.026]]\n"
     ]
    }
   ],
   "source": [
    "batch = np.array([\n",
    "    [1, 2, 3, 2.5],\n",
    "    [2, 5, -1, 2.0],\n",
    "    [-1.5, 2.7, 3.3, -0.8]\n",
    "])\n",
    "\n",
    "weights = np.array([\n",
    "    [0.2, 0.8, -0.5, 1],\n",
    "    [0.5, -0.91, 0.26, -0.5],\n",
    "    [-0.26, -0.27, 0.17, 0.87]\n",
    "])\n",
    "\n",
    "biases = np.array([2.0, 3.0, 0.5])\n",
    "\n",
    "outputs = np.dot(batch, weights.T) + biases\n",
    "print(outputs)"
   ]
  }
 ],
 "metadata": {
  "kernelspec": {
   "display_name": "env",
   "language": "python",
   "name": "python3"
  },
  "language_info": {
   "codemirror_mode": {
    "name": "ipython",
    "version": 3
   },
   "file_extension": ".py",
   "mimetype": "text/x-python",
   "name": "python",
   "nbconvert_exporter": "python",
   "pygments_lexer": "ipython3",
   "version": "3.13.3"
  }
 },
 "nbformat": 4,
 "nbformat_minor": 5
}
