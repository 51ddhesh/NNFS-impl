{
 "cells": [
  {
   "cell_type": "code",
   "execution_count": 1,
   "id": "d7d3bb90",
   "metadata": {},
   "outputs": [],
   "source": [
    "import numpy as np"
   ]
  },
  {
   "cell_type": "markdown",
   "id": "a156ef74",
   "metadata": {},
   "source": [
    "### The Base Inputs"
   ]
  },
  {
   "cell_type": "code",
   "execution_count": 2,
   "id": "2423a8f9",
   "metadata": {},
   "outputs": [],
   "source": [
    "inputs = np.array([\n",
    "    [1, 2, 3, 2.5],\n",
    "    [2.0, 5.0, -1.0, 2],\n",
    "    [-1.5, 2.7, 3.3, -0.8]\n",
    "])"
   ]
  },
  {
   "cell_type": "markdown",
   "id": "2ed80742",
   "metadata": {},
   "source": [
    "### Weights for the first layer"
   ]
  },
  {
   "cell_type": "code",
   "execution_count": 3,
   "id": "9cc1008b",
   "metadata": {},
   "outputs": [],
   "source": [
    "weights1 = np.array([\n",
    "    [0.2, 0.8, -0.5, 1],\n",
    "    [0.5, -0.91, 0.26, -0.5],\n",
    "    [-0.26, -0.27, -0.17, 0.87]\n",
    "])"
   ]
  },
  {
   "cell_type": "markdown",
   "id": "162c49c3",
   "metadata": {},
   "source": [
    "### Weights for the second layer"
   ]
  },
  {
   "cell_type": "code",
   "execution_count": 4,
   "id": "70244001",
   "metadata": {},
   "outputs": [],
   "source": [
    "weights2 = np.array([\n",
    "    [0.1, -0.14, 0.5],\n",
    "    [-0.5, 0.12, -0.33],\n",
    "    [-0.44, 0.73, -0.13]\n",
    "])"
   ]
  },
  {
   "cell_type": "markdown",
   "id": "a07b36b1",
   "metadata": {},
   "source": [
    "### Biases"
   ]
  },
  {
   "cell_type": "code",
   "execution_count": 5,
   "id": "848d62dd",
   "metadata": {},
   "outputs": [],
   "source": [
    "biases1 = [2, 3, 0.5]\n",
    "biases2 = [-1, 2, -0.5]"
   ]
  },
  {
   "cell_type": "markdown",
   "id": "1ee33e00",
   "metadata": {},
   "source": [
    "```\n",
    "From the above data, it is deduced that the first layer has four neurons and the second layer has 3 neurons\n",
    "```"
   ]
  },
  {
   "cell_type": "code",
   "execution_count": 6,
   "id": "620bb216",
   "metadata": {},
   "outputs": [],
   "source": [
    "layer1_outputs = np.dot(inputs, weights1.T) + biases1"
   ]
  },
  {
   "cell_type": "code",
   "execution_count": 7,
   "id": "99c13939",
   "metadata": {},
   "outputs": [
    {
     "name": "stdout",
     "output_type": "stream",
     "text": [
      "[[ 4.8    1.21   1.365]\n",
      " [ 8.9   -1.81   0.54 ]\n",
      " [ 1.41   1.051 -1.096]]\n"
     ]
    }
   ],
   "source": [
    "print(layer1_outputs)"
   ]
  },
  {
   "cell_type": "code",
   "execution_count": 8,
   "id": "c46985e8",
   "metadata": {},
   "outputs": [],
   "source": [
    "layer2_outputs = np.dot(layer1_outputs, weights2.T) + biases2"
   ]
  },
  {
   "cell_type": "code",
   "execution_count": 9,
   "id": "faeddbf8",
   "metadata": {},
   "outputs": [
    {
     "name": "stdout",
     "output_type": "stream",
     "text": [
      "[[-0.0069  -0.70525 -1.90615]\n",
      " [ 0.4134  -2.8454  -5.8075 ]\n",
      " [-1.55414  1.7828  -0.21069]]\n"
     ]
    }
   ],
   "source": [
    "print(layer2_outputs)"
   ]
  },
  {
   "cell_type": "markdown",
   "id": "1d53f3a7",
   "metadata": {},
   "source": [
    "### Sample Assignments"
   ]
  },
  {
   "cell_type": "code",
   "execution_count": 10,
   "id": "b7becf93",
   "metadata": {},
   "outputs": [],
   "source": [
    "inputs = np.array([\n",
    "    [1, 2, 3, 4],\n",
    "    [1, 2, 3, 4],\n",
    "    [3, 1, 35, 6]\n",
    "])\n",
    "\n",
    "w1 = np.random.rand(3, 4)\n",
    "w2 = np.random.rand(3, 3)\n",
    "w3 = np.random.rand(3, 3)\n",
    "w4 = np.random.rand(3, 3)\n",
    "w5 = np.random.rand(3, 3)\n",
    "\n",
    "b1 = np.random.rand(3)\n",
    "b2 = np.random.rand(3)\n",
    "b3 = np.random.rand(3)\n",
    "b4 = np.random.rand(3)\n",
    "b5 = np.random.rand(3)"
   ]
  },
  {
   "cell_type": "code",
   "execution_count": 11,
   "id": "f8ec4104",
   "metadata": {},
   "outputs": [
    {
     "name": "stdout",
     "output_type": "stream",
     "text": [
      "[[ 5.15684917  4.07622431  4.67977   ]\n",
      " [ 5.15684917  4.07622431  4.67977   ]\n",
      " [37.67280552 18.7172414  22.94797363]]\n"
     ]
    }
   ],
   "source": [
    "l1 = np.dot(inputs, w1.T) + b1\n",
    "print(l1)"
   ]
  },
  {
   "cell_type": "code",
   "execution_count": 12,
   "id": "37dc1a07",
   "metadata": {},
   "outputs": [
    {
     "name": "stdout",
     "output_type": "stream",
     "text": [
      "[[ 6.142915    5.53293167  9.84749805]\n",
      " [ 6.142915    5.53293167  9.84749805]\n",
      " [32.33064873 35.73568856 52.3858005 ]]\n"
     ]
    }
   ],
   "source": [
    "l2 = np.dot(l1, w2.T) + b2 \n",
    "print(l2)"
   ]
  },
  {
   "cell_type": "code",
   "execution_count": 13,
   "id": "1f6987d2",
   "metadata": {},
   "outputs": [
    {
     "name": "stdout",
     "output_type": "stream",
     "text": [
      "[[12.34967344  5.39136731  7.22310836]\n",
      " [12.34967344  5.39136731  7.22310836]\n",
      " [68.81840426 28.38446097 36.39422162]]\n"
     ]
    }
   ],
   "source": [
    "l3 = np.dot(l2, w3.T) + b3\n",
    "print(l3)"
   ]
  },
  {
   "cell_type": "code",
   "execution_count": 14,
   "id": "dc69e968",
   "metadata": {},
   "outputs": [
    {
     "name": "stdout",
     "output_type": "stream",
     "text": [
      "[[15.01593707 14.98475364 18.83935253]\n",
      " [15.01593707 14.98475364 18.83935253]\n",
      " [75.97964264 77.68295574 99.21815073]]\n"
     ]
    }
   ],
   "source": [
    "l4 = np.dot(l3, w4.T) + b4\n",
    "print(l4)"
   ]
  },
  {
   "cell_type": "code",
   "execution_count": 15,
   "id": "2ce4f362",
   "metadata": {},
   "outputs": [
    {
     "name": "stdout",
     "output_type": "stream",
     "text": [
      "[[ 34.50086663  15.53373736  16.68092372]\n",
      " [ 34.50086663  15.53373736  16.68092372]\n",
      " [178.55855996  77.38683292  85.26451102]]\n"
     ]
    }
   ],
   "source": [
    "l5 = np.dot(l4, w5.T) + b5\n",
    "print(l5)"
   ]
  }
 ],
 "metadata": {
  "kernelspec": {
   "display_name": "env",
   "language": "python",
   "name": "python3"
  },
  "language_info": {
   "codemirror_mode": {
    "name": "ipython",
    "version": 3
   },
   "file_extension": ".py",
   "mimetype": "text/x-python",
   "name": "python",
   "nbconvert_exporter": "python",
   "pygments_lexer": "ipython3",
   "version": "3.13.3"
  }
 },
 "nbformat": 4,
 "nbformat_minor": 5
}
