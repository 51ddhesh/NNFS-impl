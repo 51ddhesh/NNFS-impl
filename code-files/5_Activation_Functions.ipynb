{
 "cells": [
  {
   "cell_type": "code",
   "execution_count": 1,
   "id": "21075700",
   "metadata": {},
   "outputs": [],
   "source": [
    "import numpy as np\n",
    "from nnfs.datasets import spiral_data\n",
    "import nnfs\n",
    "import matplotlib.pyplot as plt"
   ]
  },
  {
   "cell_type": "markdown",
   "id": "61660c3b",
   "metadata": {},
   "source": [
    "### Example of a `ReLU` Activation"
   ]
  },
  {
   "cell_type": "code",
   "execution_count": 2,
   "id": "b9f7773a",
   "metadata": {},
   "outputs": [],
   "source": [
    "input = np.array([0, -2, 1, 3.2, -2.7, 1.1, 2.2, -3])"
   ]
  },
  {
   "cell_type": "code",
   "execution_count": 3,
   "id": "23830b5f",
   "metadata": {},
   "outputs": [
    {
     "name": "stdout",
     "output_type": "stream",
     "text": [
      "[0.  0.  1.  3.2 0.  1.1 2.2 0. ]\n"
     ]
    }
   ],
   "source": [
    "output = np.maximum(0, input) # output[i] =  max(0, input[i])\n",
    "print(output)"
   ]
  },
  {
   "cell_type": "markdown",
   "id": "feb44029",
   "metadata": {},
   "source": [
    "### Example of `Softmax` Activation"
   ]
  },
  {
   "cell_type": "code",
   "execution_count": 4,
   "id": "e092504d",
   "metadata": {},
   "outputs": [],
   "source": [
    "input = np.array([\n",
    "    [1, 2, 3, 2.5],\n",
    "    [2.0, 5.0, -1.0, 2],\n",
    "    [-1.5, 2.7, 3.3, -0.8]\n",
    "])"
   ]
  },
  {
   "cell_type": "code",
   "execution_count": 5,
   "id": "90595d02",
   "metadata": {},
   "outputs": [],
   "source": [
    "exp_values = np.exp(input - np.max(input, axis=1, keepdims=True))"
   ]
  },
  {
   "cell_type": "code",
   "execution_count": 6,
   "id": "f3e54801",
   "metadata": {},
   "outputs": [],
   "source": [
    "probabilities = exp_values / np.sum(exp_values, axis=1, keepdims=True)"
   ]
  },
  {
   "cell_type": "code",
   "execution_count": 7,
   "id": "719b5697",
   "metadata": {},
   "outputs": [
    {
     "name": "stdout",
     "output_type": "stream",
     "text": [
      "[[0.06414769 0.17437149 0.47399085 0.28748998]\n",
      " [0.04517666 0.90739747 0.00224921 0.04517666]\n",
      " [0.00522984 0.34875873 0.63547983 0.0105316 ]]\n",
      "[1. 1. 1.]\n"
     ]
    }
   ],
   "source": [
    "print(probabilities)\n",
    "print(np.sum(probabilities, axis=1))"
   ]
  },
  {
   "cell_type": "markdown",
   "id": "68877aca",
   "metadata": {},
   "source": [
    "### A complete pass through the network"
   ]
  },
  {
   "cell_type": "code",
   "execution_count": 8,
   "id": "7c987349",
   "metadata": {},
   "outputs": [],
   "source": [
    "class DenseLayer:\n",
    "    def __init__(self, n_inputs, n_neurons):\n",
    "        self.weights = 0.01 * np.random.randn(n_inputs, n_neurons)\n",
    "        self.biases = np.zeros((1, n_neurons))\n",
    "\n",
    "    def forward(self, inputs):\n",
    "        self.outputs = np.dot(inputs, self.weights) + self.biases"
   ]
  },
  {
   "cell_type": "code",
   "execution_count": 9,
   "id": "35b87c4b",
   "metadata": {},
   "outputs": [],
   "source": [
    "class ReLU:\n",
    "    def forward(self, inputs):\n",
    "        self.outputs = np.maximum(0, inputs)"
   ]
  },
  {
   "cell_type": "code",
   "execution_count": 10,
   "id": "c1d2d5e6",
   "metadata": {},
   "outputs": [],
   "source": [
    "class Softmax:\n",
    "    def forward(self, inputs):\n",
    "        exp_values = np.exp(inputs - np.max(inputs, axis=1, keepdims=True))\n",
    "        self.outputs = exp_values / np.sum(exp_values, axis=1, keepdims=True)"
   ]
  },
  {
   "cell_type": "code",
   "execution_count": null,
   "id": "752a55a2",
   "metadata": {},
   "outputs": [],
   "source": [
    "nnfs.init() # init the class to create the dataset"
   ]
  },
  {
   "cell_type": "code",
   "execution_count": 12,
   "id": "c4155489",
   "metadata": {},
   "outputs": [],
   "source": [
    "x, y = spiral_data(samples=100, classes=3)"
   ]
  },
  {
   "cell_type": "code",
   "execution_count": 13,
   "id": "4ceb9824",
   "metadata": {},
   "outputs": [],
   "source": [
    "relu = ReLU() # Create objects of the activation classes\n",
    "softmax = Softmax()"
   ]
  },
  {
   "cell_type": "code",
   "execution_count": 14,
   "id": "4e829f35",
   "metadata": {},
   "outputs": [],
   "source": [
    "layer1 = DenseLayer(2, 3) # layer 1 has 2 inputs and 3 neurons"
   ]
  },
  {
   "cell_type": "code",
   "execution_count": 15,
   "id": "4fc6cf6f",
   "metadata": {},
   "outputs": [],
   "source": [
    "layer1.forward(x) # pass through the first layer"
   ]
  },
  {
   "cell_type": "code",
   "execution_count": 16,
   "id": "7574c32d",
   "metadata": {},
   "outputs": [],
   "source": [
    "relu.forward(layer1.outputs) # pass through the ReLU activation"
   ]
  },
  {
   "cell_type": "code",
   "execution_count": 17,
   "id": "330cca1d",
   "metadata": {},
   "outputs": [],
   "source": [
    "layer2 = DenseLayer(3, 3) # layer 2 has 3 inputs and 3 neurons"
   ]
  },
  {
   "cell_type": "code",
   "execution_count": 18,
   "id": "fd4cb5d6",
   "metadata": {},
   "outputs": [],
   "source": [
    "layer2.forward(relu.outputs) # pass through the second layer"
   ]
  },
  {
   "cell_type": "code",
   "execution_count": 19,
   "id": "ae06a090",
   "metadata": {},
   "outputs": [],
   "source": [
    "softmax.forward(layer2.outputs)"
   ]
  },
  {
   "cell_type": "code",
   "execution_count": 20,
   "id": "ba12700c",
   "metadata": {},
   "outputs": [
    {
     "name": "stdout",
     "output_type": "stream",
     "text": [
      "[[0.33333334 0.33333334 0.33333334]\n",
      " [0.3333332  0.3333332  0.33333364]\n",
      " [0.3333329  0.33333293 0.3333342 ]\n",
      " [0.3333326  0.33333263 0.33333477]\n",
      " [0.33333233 0.3333324  0.33333528]]\n"
     ]
    }
   ],
   "source": [
    "print(softmax.outputs[:5])"
   ]
  },
  {
   "cell_type": "code",
   "execution_count": null,
   "id": "f84a849f",
   "metadata": {},
   "outputs": [
    {
     "name": "stdout",
     "output_type": "stream",
     "text": [
      "[[1.]\n",
      " [1.]\n",
      " [1.]\n",
      " [1.]\n",
      " [1.]]\n"
     ]
    }
   ],
   "source": [
    "print(np.sum(softmax.outputs[:5], axis= 1, keepdims=True)) # Sums to 1"
   ]
  }
 ],
 "metadata": {
  "kernelspec": {
   "display_name": "env",
   "language": "python",
   "name": "python3"
  },
  "language_info": {
   "codemirror_mode": {
    "name": "ipython",
    "version": 3
   },
   "file_extension": ".py",
   "mimetype": "text/x-python",
   "name": "python",
   "nbconvert_exporter": "python",
   "pygments_lexer": "ipython3",
   "version": "3.13.3"
  }
 },
 "nbformat": 4,
 "nbformat_minor": 5
}
