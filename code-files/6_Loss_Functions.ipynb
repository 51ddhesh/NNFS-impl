{
 "cells": [
  {
   "cell_type": "markdown",
   "id": "e41f52a6",
   "metadata": {},
   "source": [
    "### Class Targets are given"
   ]
  },
  {
   "cell_type": "code",
   "execution_count": 1,
   "id": "b9a54674",
   "metadata": {},
   "outputs": [],
   "source": [
    "import numpy as np"
   ]
  },
  {
   "cell_type": "code",
   "execution_count": 2,
   "id": "e4dc051a",
   "metadata": {},
   "outputs": [],
   "source": [
    "softmaxOutputs = np.array([\n",
    "    [0.7, 0.1, 0.2],\n",
    "    [0.1, 0.5, 0.4],\n",
    "    [0.02, 0.9, 0.08]\n",
    "])\n",
    "\n",
    "classTargets = np.array(\n",
    "    [0, 1, 1]\n",
    ")"
   ]
  },
  {
   "cell_type": "code",
   "execution_count": 3,
   "id": "e6458f61",
   "metadata": {},
   "outputs": [
    {
     "name": "stdout",
     "output_type": "stream",
     "text": [
      "[0.7 0.5 0.9]\n"
     ]
    }
   ],
   "source": [
    "print(softmaxOutputs[range(len(softmaxOutputs)), classTargets])"
   ]
  },
  {
   "cell_type": "code",
   "execution_count": 4,
   "id": "d7a3510f",
   "metadata": {},
   "outputs": [
    {
     "name": "stdout",
     "output_type": "stream",
     "text": [
      "Loss: [0.35667494 0.69314718 0.10536052]\n",
      "Average Loss: 0.38506088005216804\n"
     ]
    }
   ],
   "source": [
    "loss = -np.log(softmaxOutputs[range(len(softmaxOutputs)), classTargets])\n",
    "print(f'Loss: {loss}')\n",
    "avg_loss = np.mean(loss)\n",
    "print(f'Average Loss: {avg_loss}')"
   ]
  },
  {
   "cell_type": "markdown",
   "id": "d9308a98",
   "metadata": {},
   "source": [
    "### One Hot Encoding"
   ]
  },
  {
   "cell_type": "code",
   "execution_count": 5,
   "id": "87aabf11",
   "metadata": {},
   "outputs": [],
   "source": [
    "softmaxOutputs = np.array([\n",
    "    [0.7, 0.1, 0.2],\n",
    "    [0.1, 0.5, 0.4],\n",
    "    [0.02, 0.9, 0.08]\n",
    "])\n",
    "\n",
    "classTargets = np.array([\n",
    "    [1, 0, 0],\n",
    "    [0, 1, 0],\n",
    "    [0, 1, 0]\n",
    "])"
   ]
  },
  {
   "cell_type": "code",
   "execution_count": 6,
   "id": "3d75ae08",
   "metadata": {},
   "outputs": [
    {
     "name": "stdout",
     "output_type": "stream",
     "text": [
      "[0.7 0.5 0.9]\n"
     ]
    }
   ],
   "source": [
    "clipped = softmaxOutputs * classTargets\n",
    "clipped = np.sum(clipped, axis=1)\n",
    "print(clipped)"
   ]
  },
  {
   "cell_type": "code",
   "execution_count": 7,
   "id": "5424b691",
   "metadata": {},
   "outputs": [
    {
     "name": "stdout",
     "output_type": "stream",
     "text": [
      "Loss: [0.35667494 0.69314718 0.10536052]\n",
      "Average Loss: 0.38506088005216804\n"
     ]
    }
   ],
   "source": [
    "loss = -np.log(clipped)\n",
    "avg_loss = np.mean(loss)\n",
    "print(f'Loss: {loss}')\n",
    "print(f'Average Loss: {avg_loss}')"
   ]
  },
  {
   "cell_type": "markdown",
   "id": "ada5b4df",
   "metadata": {},
   "source": [
    "### The Categorical Cross Entropy (CCE) Class"
   ]
  },
  {
   "cell_type": "code",
   "execution_count": 8,
   "id": "4e91b322",
   "metadata": {},
   "outputs": [],
   "source": [
    "class Loss:\n",
    "    def calculate(self, output, y):\n",
    "        sample_losses = self.forward(output, y)\n",
    "        delta_loss = np.mean(sample_losses)\n",
    "        return delta_loss"
   ]
  },
  {
   "cell_type": "code",
   "execution_count": 9,
   "id": "88fbf6a4",
   "metadata": {},
   "outputs": [],
   "source": [
    "class CCE(Loss):\n",
    "    def forward(self, y_pred, y_true): # y_pred -> prediction matrix, y_true -> classTargets\n",
    "        samples = len(y_pred)\n",
    "        y_clipped = np.clip(y_pred, 1e-7, 1 - 1e-7)\n",
    "        if len(y_true.shape) == 1: # only if categorical labels\n",
    "            # y_true.ndim == 1 also works\n",
    "            confidences = y_clipped[range(samples), y_true]\n",
    "        elif len(y_true.shape) == 2: # one hot encoding\n",
    "            # y_true.ndim == 2 also works\n",
    "            confidences = np.sum(y_clipped * y_true, axis=1)\n",
    "        negativeLossLikelihood = -np.log(confidences)\n",
    "        return negativeLossLikelihood"
   ]
  },
  {
   "cell_type": "markdown",
   "id": "c81ca3fe",
   "metadata": {},
   "source": [
    "### Example Loss"
   ]
  },
  {
   "cell_type": "code",
   "execution_count": 10,
   "id": "27be808f",
   "metadata": {},
   "outputs": [
    {
     "name": "stdout",
     "output_type": "stream",
     "text": [
      "0.38506088005216804\n"
     ]
    }
   ],
   "source": [
    "softmaxOutputs = np.array([\n",
    "    [0.7, 0.1, 0.2],\n",
    "    [0.1, 0.5, 0.4],\n",
    "    [0.02, 0.9, 0.08]\n",
    "])\n",
    "\n",
    "classTargets = np.array([\n",
    "    [1, 0, 0],\n",
    "    [0, 1, 0],\n",
    "    [0, 1, 0]\n",
    "])\n",
    "\n",
    "lossFunction = CCE()\n",
    "loss = lossFunction.calculate(softmaxOutputs, classTargets)\n",
    "print(loss)"
   ]
  },
  {
   "cell_type": "markdown",
   "id": "a49253bf",
   "metadata": {},
   "source": [
    "### A Complete Pass through the network with the Loss"
   ]
  },
  {
   "cell_type": "code",
   "execution_count": 11,
   "id": "19c3f47b",
   "metadata": {},
   "outputs": [],
   "source": [
    "import numpy as np\n",
    "from nnfs.datasets import spiral_data\n",
    "import nnfs"
   ]
  },
  {
   "cell_type": "code",
   "execution_count": 12,
   "id": "09e434c9",
   "metadata": {},
   "outputs": [],
   "source": [
    "nnfs.init()\n",
    "\n",
    "class DenseLayer:\n",
    "    def __init__(self, n_inputs, n_neurons):\n",
    "        self.weights = 0.01 * np.random.randn(n_inputs, n_neurons)\n",
    "        self.biases = np.zeros((1, n_neurons))\n",
    "\n",
    "    def forward(self, inputs):\n",
    "        self.outputs = np.dot(inputs, self.weights) + self.biases\n",
    "\n",
    "class ReLU:\n",
    "    def forward(self, inputs):\n",
    "        self.outputs = np.maximum(0, inputs)\n",
    "\n",
    "class Softmax:\n",
    "    def forward(self, inputs):\n",
    "        exp_values = np.exp(inputs - np.max(inputs, axis=1, keepdims=True))\n",
    "        self.outputs = exp_values / np.sum(exp_values, axis=1, keepdims=True)\n",
    "\n",
    "class Loss:\n",
    "    def calculate(self, output, y):\n",
    "        sample_losses = self.forward(output, y)\n",
    "        delta_loss = np.mean(sample_losses)\n",
    "        return delta_loss\n",
    "\n",
    "class CCE(Loss):\n",
    "    def forward(self, y_pred, y_true): # y_pred -> prediction matrix, y_true -> classTargets\n",
    "        samples = len(y_pred)\n",
    "        y_clipped = np.clip(y_pred, 1e-7, 1 - 1e-7)\n",
    "        if len(y_true.shape) == 1: # only if categorical labels\n",
    "            # y_true.ndim == 1 also works\n",
    "            confidences = y_clipped[range(samples), y_true]\n",
    "        elif len(y_true.shape) == 2: # one hot encoding\n",
    "            # y_true.ndim == 2 also works\n",
    "            confidences = np.sum(y_clipped * y_true, axis=1)\n",
    "        negativeLossLikelihood = -np.log(confidences)\n",
    "        return negativeLossLikelihood\n",
    "\n",
    "x, y = spiral_data(samples=100, classes=3)"
   ]
  },
  {
   "cell_type": "code",
   "execution_count": 13,
   "id": "9ae63cb6",
   "metadata": {},
   "outputs": [],
   "source": [
    "relu = ReLU() # Create objects of activation functions and loss functions\n",
    "softmax = Softmax()\n",
    "lossFunction = CCE()"
   ]
  },
  {
   "cell_type": "code",
   "execution_count": 14,
   "id": "73813689",
   "metadata": {},
   "outputs": [],
   "source": [
    "layer1 = DenseLayer(2, 3)\n",
    "layer1.forward(x)\n",
    "relu.forward(layer1.outputs)\n",
    "layer2 = DenseLayer(3, 3)\n",
    "layer2.forward(relu.outputs)\n",
    "softmax.forward(layer2.outputs)"
   ]
  },
  {
   "cell_type": "code",
   "execution_count": 15,
   "id": "95f27919",
   "metadata": {},
   "outputs": [
    {
     "name": "stdout",
     "output_type": "stream",
     "text": [
      "[[0.33333334 0.33333334 0.33333334]\n",
      " [0.3333332  0.3333332  0.33333364]\n",
      " [0.3333329  0.33333293 0.3333342 ]\n",
      " [0.3333326  0.33333263 0.33333477]\n",
      " [0.33333233 0.3333324  0.33333528]]\n"
     ]
    }
   ],
   "source": [
    "print(softmax.outputs[:5])"
   ]
  },
  {
   "cell_type": "code",
   "execution_count": 16,
   "id": "7e113137",
   "metadata": {},
   "outputs": [
    {
     "name": "stdout",
     "output_type": "stream",
     "text": [
      "0.34\n",
      "1.0986104\n"
     ]
    }
   ],
   "source": [
    "loss = lossFunction.calculate(softmax.outputs, y) # softmax.outputs -> prediction and y -> classTargets\n",
    "\n",
    "predictions = np.argmax(softmax.outputs, axis=1)\n",
    "if len(y.shape) == 2:\n",
    "    y = np.argmax(y, axis=1)\n",
    "accuracy = np.mean(predictions == y)\n",
    "\n",
    "print(accuracy)\n",
    "print(loss)"
   ]
  }
 ],
 "metadata": {
  "kernelspec": {
   "display_name": "env",
   "language": "python",
   "name": "python3"
  },
  "language_info": {
   "codemirror_mode": {
    "name": "ipython",
    "version": 3
   },
   "file_extension": ".py",
   "mimetype": "text/x-python",
   "name": "python",
   "nbconvert_exporter": "python",
   "pygments_lexer": "ipython3",
   "version": "3.13.3"
  }
 },
 "nbformat": 4,
 "nbformat_minor": 5
}
